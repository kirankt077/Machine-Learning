{
 "cells": [
  {
   "cell_type": "code",
   "execution_count": 1,
   "metadata": {},
   "outputs": [],
   "source": [
    "import pickle\n",
    "import numpy as np"
   ]
  },
  {
   "cell_type": "code",
   "execution_count": 2,
   "metadata": {},
   "outputs": [],
   "source": [
    "model = pickle.load(open('model\\\\SalaryPredictor.model','rb')) ## Load the file and rb= read in bytes"
   ]
  },
  {
   "cell_type": "code",
   "execution_count": 8,
   "metadata": {},
   "outputs": [
    {
     "name": "stdout",
     "output_type": "stream",
     "text": [
      "Enter years of experience: 0\n",
      "The salary for 0.0 years of experience person will be:[[26819.0651187]] \n"
     ]
    }
   ],
   "source": [
    "yearsexperience = float(input('Enter years of experience: '))\n",
    "\n",
    "if yearsexperience >=0:\n",
    "    features = np.array([[yearsexperience]])\n",
    "    salary = model.predict(features)\n",
    "    print('The salary for {} years of experience person will be:{} '.format(yearsexperience,salary))\n",
    "else:\n",
    "    print('Incorrect Years of experience entered')"
   ]
  }
 ],
 "metadata": {
  "kernelspec": {
   "display_name": "Python 3",
   "language": "python",
   "name": "python3"
  },
  "language_info": {
   "codemirror_mode": {
    "name": "ipython",
    "version": 3
   },
   "file_extension": ".py",
   "mimetype": "text/x-python",
   "name": "python",
   "nbconvert_exporter": "python",
   "pygments_lexer": "ipython3",
   "version": "3.7.4"
  }
 },
 "nbformat": 4,
 "nbformat_minor": 2
}
