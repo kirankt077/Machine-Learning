{
 "cells": [
  {
   "cell_type": "code",
   "execution_count": 1,
   "metadata": {},
   "outputs": [],
   "source": [
    "import pandas as pd\n",
    "import numpy as np\n",
    "import matplotlib.pyplot as plt\n",
    "%matplotlib inline"
   ]
  },
  {
   "cell_type": "code",
   "execution_count": 2,
   "metadata": {},
   "outputs": [],
   "source": [
    "data = pd.read_csv('C:\\\\Users\\\\KiranThakur\\\\Simplilearn_Scripts\\\\Prashant_Nair\\\\ML Project 1\\\\data.csv')"
   ]
  },
  {
   "cell_type": "code",
   "execution_count": 3,
   "metadata": {},
   "outputs": [
    {
     "data": {
      "text/html": [
       "<div>\n",
       "<style scoped>\n",
       "    .dataframe tbody tr th:only-of-type {\n",
       "        vertical-align: middle;\n",
       "    }\n",
       "\n",
       "    .dataframe tbody tr th {\n",
       "        vertical-align: top;\n",
       "    }\n",
       "\n",
       "    .dataframe thead th {\n",
       "        text-align: right;\n",
       "    }\n",
       "</style>\n",
       "<table border=\"1\" class=\"dataframe\">\n",
       "  <thead>\n",
       "    <tr style=\"text-align: right;\">\n",
       "      <th></th>\n",
       "      <th>CRIM</th>\n",
       "      <th>ZN</th>\n",
       "      <th>INDUS</th>\n",
       "      <th>CHAS</th>\n",
       "      <th>NOX</th>\n",
       "      <th>RM</th>\n",
       "      <th>AGE</th>\n",
       "      <th>DIS</th>\n",
       "      <th>RAD</th>\n",
       "      <th>TAX</th>\n",
       "      <th>PTRATIO</th>\n",
       "      <th>B</th>\n",
       "      <th>LSTAT</th>\n",
       "      <th>MEDV</th>\n",
       "    </tr>\n",
       "  </thead>\n",
       "  <tbody>\n",
       "    <tr>\n",
       "      <td>0</td>\n",
       "      <td>0.00632</td>\n",
       "      <td>18.0</td>\n",
       "      <td>2.31</td>\n",
       "      <td>0</td>\n",
       "      <td>0.538</td>\n",
       "      <td>6.575</td>\n",
       "      <td>65.2</td>\n",
       "      <td>4.0900</td>\n",
       "      <td>1</td>\n",
       "      <td>296</td>\n",
       "      <td>15.3</td>\n",
       "      <td>396.90</td>\n",
       "      <td>4.98</td>\n",
       "      <td>24.0</td>\n",
       "    </tr>\n",
       "    <tr>\n",
       "      <td>1</td>\n",
       "      <td>0.02731</td>\n",
       "      <td>0.0</td>\n",
       "      <td>7.07</td>\n",
       "      <td>0</td>\n",
       "      <td>0.469</td>\n",
       "      <td>6.421</td>\n",
       "      <td>78.9</td>\n",
       "      <td>4.9671</td>\n",
       "      <td>2</td>\n",
       "      <td>242</td>\n",
       "      <td>17.8</td>\n",
       "      <td>396.90</td>\n",
       "      <td>9.14</td>\n",
       "      <td>21.6</td>\n",
       "    </tr>\n",
       "    <tr>\n",
       "      <td>2</td>\n",
       "      <td>0.02729</td>\n",
       "      <td>0.0</td>\n",
       "      <td>7.07</td>\n",
       "      <td>0</td>\n",
       "      <td>0.469</td>\n",
       "      <td>7.185</td>\n",
       "      <td>61.1</td>\n",
       "      <td>4.9671</td>\n",
       "      <td>2</td>\n",
       "      <td>242</td>\n",
       "      <td>17.8</td>\n",
       "      <td>392.83</td>\n",
       "      <td>4.03</td>\n",
       "      <td>34.7</td>\n",
       "    </tr>\n",
       "    <tr>\n",
       "      <td>3</td>\n",
       "      <td>0.03237</td>\n",
       "      <td>0.0</td>\n",
       "      <td>2.18</td>\n",
       "      <td>0</td>\n",
       "      <td>0.458</td>\n",
       "      <td>6.998</td>\n",
       "      <td>45.8</td>\n",
       "      <td>6.0622</td>\n",
       "      <td>3</td>\n",
       "      <td>222</td>\n",
       "      <td>18.7</td>\n",
       "      <td>394.63</td>\n",
       "      <td>2.94</td>\n",
       "      <td>33.4</td>\n",
       "    </tr>\n",
       "    <tr>\n",
       "      <td>4</td>\n",
       "      <td>0.06905</td>\n",
       "      <td>0.0</td>\n",
       "      <td>2.18</td>\n",
       "      <td>0</td>\n",
       "      <td>0.458</td>\n",
       "      <td>7.147</td>\n",
       "      <td>54.2</td>\n",
       "      <td>6.0622</td>\n",
       "      <td>3</td>\n",
       "      <td>222</td>\n",
       "      <td>18.7</td>\n",
       "      <td>396.90</td>\n",
       "      <td>5.33</td>\n",
       "      <td>36.2</td>\n",
       "    </tr>\n",
       "  </tbody>\n",
       "</table>\n",
       "</div>"
      ],
      "text/plain": [
       "      CRIM    ZN  INDUS  CHAS    NOX     RM   AGE     DIS  RAD  TAX  PTRATIO  \\\n",
       "0  0.00632  18.0   2.31     0  0.538  6.575  65.2  4.0900    1  296     15.3   \n",
       "1  0.02731   0.0   7.07     0  0.469  6.421  78.9  4.9671    2  242     17.8   \n",
       "2  0.02729   0.0   7.07     0  0.469  7.185  61.1  4.9671    2  242     17.8   \n",
       "3  0.03237   0.0   2.18     0  0.458  6.998  45.8  6.0622    3  222     18.7   \n",
       "4  0.06905   0.0   2.18     0  0.458  7.147  54.2  6.0622    3  222     18.7   \n",
       "\n",
       "        B  LSTAT  MEDV  \n",
       "0  396.90   4.98  24.0  \n",
       "1  396.90   9.14  21.6  \n",
       "2  392.83   4.03  34.7  \n",
       "3  394.63   2.94  33.4  \n",
       "4  396.90   5.33  36.2  "
      ]
     },
     "execution_count": 3,
     "metadata": {},
     "output_type": "execute_result"
    }
   ],
   "source": [
    "data.head()"
   ]
  },
  {
   "cell_type": "code",
   "execution_count": 4,
   "metadata": {},
   "outputs": [
    {
     "data": {
      "text/html": [
       "<div>\n",
       "<style scoped>\n",
       "    .dataframe tbody tr th:only-of-type {\n",
       "        vertical-align: middle;\n",
       "    }\n",
       "\n",
       "    .dataframe tbody tr th {\n",
       "        vertical-align: top;\n",
       "    }\n",
       "\n",
       "    .dataframe thead th {\n",
       "        text-align: right;\n",
       "    }\n",
       "</style>\n",
       "<table border=\"1\" class=\"dataframe\">\n",
       "  <thead>\n",
       "    <tr style=\"text-align: right;\">\n",
       "      <th></th>\n",
       "      <th>CRIM</th>\n",
       "      <th>ZN</th>\n",
       "      <th>INDUS</th>\n",
       "      <th>CHAS</th>\n",
       "      <th>NOX</th>\n",
       "      <th>RM</th>\n",
       "      <th>AGE</th>\n",
       "      <th>DIS</th>\n",
       "      <th>RAD</th>\n",
       "      <th>TAX</th>\n",
       "      <th>PTRATIO</th>\n",
       "      <th>B</th>\n",
       "      <th>LSTAT</th>\n",
       "      <th>MEDV</th>\n",
       "    </tr>\n",
       "  </thead>\n",
       "  <tbody>\n",
       "    <tr>\n",
       "      <td>count</td>\n",
       "      <td>506.000000</td>\n",
       "      <td>506.000000</td>\n",
       "      <td>506.000000</td>\n",
       "      <td>506.000000</td>\n",
       "      <td>506.000000</td>\n",
       "      <td>501.000000</td>\n",
       "      <td>506.000000</td>\n",
       "      <td>506.000000</td>\n",
       "      <td>506.000000</td>\n",
       "      <td>506.000000</td>\n",
       "      <td>506.000000</td>\n",
       "      <td>506.000000</td>\n",
       "      <td>506.000000</td>\n",
       "      <td>506.000000</td>\n",
       "    </tr>\n",
       "    <tr>\n",
       "      <td>mean</td>\n",
       "      <td>3.613524</td>\n",
       "      <td>11.363636</td>\n",
       "      <td>11.136779</td>\n",
       "      <td>0.069170</td>\n",
       "      <td>0.554695</td>\n",
       "      <td>6.284341</td>\n",
       "      <td>68.574901</td>\n",
       "      <td>3.795043</td>\n",
       "      <td>9.549407</td>\n",
       "      <td>408.237154</td>\n",
       "      <td>18.455534</td>\n",
       "      <td>356.674032</td>\n",
       "      <td>12.653063</td>\n",
       "      <td>22.532806</td>\n",
       "    </tr>\n",
       "    <tr>\n",
       "      <td>std</td>\n",
       "      <td>8.601545</td>\n",
       "      <td>23.322453</td>\n",
       "      <td>6.860353</td>\n",
       "      <td>0.253994</td>\n",
       "      <td>0.115878</td>\n",
       "      <td>0.705587</td>\n",
       "      <td>28.148861</td>\n",
       "      <td>2.105710</td>\n",
       "      <td>8.707259</td>\n",
       "      <td>168.537116</td>\n",
       "      <td>2.164946</td>\n",
       "      <td>91.294864</td>\n",
       "      <td>7.141062</td>\n",
       "      <td>9.197104</td>\n",
       "    </tr>\n",
       "    <tr>\n",
       "      <td>min</td>\n",
       "      <td>0.006320</td>\n",
       "      <td>0.000000</td>\n",
       "      <td>0.460000</td>\n",
       "      <td>0.000000</td>\n",
       "      <td>0.385000</td>\n",
       "      <td>3.561000</td>\n",
       "      <td>2.900000</td>\n",
       "      <td>1.129600</td>\n",
       "      <td>1.000000</td>\n",
       "      <td>187.000000</td>\n",
       "      <td>12.600000</td>\n",
       "      <td>0.320000</td>\n",
       "      <td>1.730000</td>\n",
       "      <td>5.000000</td>\n",
       "    </tr>\n",
       "    <tr>\n",
       "      <td>25%</td>\n",
       "      <td>0.082045</td>\n",
       "      <td>0.000000</td>\n",
       "      <td>5.190000</td>\n",
       "      <td>0.000000</td>\n",
       "      <td>0.449000</td>\n",
       "      <td>5.884000</td>\n",
       "      <td>45.025000</td>\n",
       "      <td>2.100175</td>\n",
       "      <td>4.000000</td>\n",
       "      <td>279.000000</td>\n",
       "      <td>17.400000</td>\n",
       "      <td>375.377500</td>\n",
       "      <td>6.950000</td>\n",
       "      <td>17.025000</td>\n",
       "    </tr>\n",
       "    <tr>\n",
       "      <td>50%</td>\n",
       "      <td>0.256510</td>\n",
       "      <td>0.000000</td>\n",
       "      <td>9.690000</td>\n",
       "      <td>0.000000</td>\n",
       "      <td>0.538000</td>\n",
       "      <td>6.208000</td>\n",
       "      <td>77.500000</td>\n",
       "      <td>3.207450</td>\n",
       "      <td>5.000000</td>\n",
       "      <td>330.000000</td>\n",
       "      <td>19.050000</td>\n",
       "      <td>391.440000</td>\n",
       "      <td>11.360000</td>\n",
       "      <td>21.200000</td>\n",
       "    </tr>\n",
       "    <tr>\n",
       "      <td>75%</td>\n",
       "      <td>3.677082</td>\n",
       "      <td>12.500000</td>\n",
       "      <td>18.100000</td>\n",
       "      <td>0.000000</td>\n",
       "      <td>0.624000</td>\n",
       "      <td>6.625000</td>\n",
       "      <td>94.075000</td>\n",
       "      <td>5.188425</td>\n",
       "      <td>24.000000</td>\n",
       "      <td>666.000000</td>\n",
       "      <td>20.200000</td>\n",
       "      <td>396.225000</td>\n",
       "      <td>16.955000</td>\n",
       "      <td>25.000000</td>\n",
       "    </tr>\n",
       "    <tr>\n",
       "      <td>max</td>\n",
       "      <td>88.976200</td>\n",
       "      <td>100.000000</td>\n",
       "      <td>27.740000</td>\n",
       "      <td>1.000000</td>\n",
       "      <td>0.871000</td>\n",
       "      <td>8.780000</td>\n",
       "      <td>100.000000</td>\n",
       "      <td>12.126500</td>\n",
       "      <td>24.000000</td>\n",
       "      <td>711.000000</td>\n",
       "      <td>22.000000</td>\n",
       "      <td>396.900000</td>\n",
       "      <td>37.970000</td>\n",
       "      <td>50.000000</td>\n",
       "    </tr>\n",
       "  </tbody>\n",
       "</table>\n",
       "</div>"
      ],
      "text/plain": [
       "             CRIM          ZN       INDUS        CHAS         NOX          RM  \\\n",
       "count  506.000000  506.000000  506.000000  506.000000  506.000000  501.000000   \n",
       "mean     3.613524   11.363636   11.136779    0.069170    0.554695    6.284341   \n",
       "std      8.601545   23.322453    6.860353    0.253994    0.115878    0.705587   \n",
       "min      0.006320    0.000000    0.460000    0.000000    0.385000    3.561000   \n",
       "25%      0.082045    0.000000    5.190000    0.000000    0.449000    5.884000   \n",
       "50%      0.256510    0.000000    9.690000    0.000000    0.538000    6.208000   \n",
       "75%      3.677082   12.500000   18.100000    0.000000    0.624000    6.625000   \n",
       "max     88.976200  100.000000   27.740000    1.000000    0.871000    8.780000   \n",
       "\n",
       "              AGE         DIS         RAD         TAX     PTRATIO           B  \\\n",
       "count  506.000000  506.000000  506.000000  506.000000  506.000000  506.000000   \n",
       "mean    68.574901    3.795043    9.549407  408.237154   18.455534  356.674032   \n",
       "std     28.148861    2.105710    8.707259  168.537116    2.164946   91.294864   \n",
       "min      2.900000    1.129600    1.000000  187.000000   12.600000    0.320000   \n",
       "25%     45.025000    2.100175    4.000000  279.000000   17.400000  375.377500   \n",
       "50%     77.500000    3.207450    5.000000  330.000000   19.050000  391.440000   \n",
       "75%     94.075000    5.188425   24.000000  666.000000   20.200000  396.225000   \n",
       "max    100.000000   12.126500   24.000000  711.000000   22.000000  396.900000   \n",
       "\n",
       "            LSTAT        MEDV  \n",
       "count  506.000000  506.000000  \n",
       "mean    12.653063   22.532806  \n",
       "std      7.141062    9.197104  \n",
       "min      1.730000    5.000000  \n",
       "25%      6.950000   17.025000  \n",
       "50%     11.360000   21.200000  \n",
       "75%     16.955000   25.000000  \n",
       "max     37.970000   50.000000  "
      ]
     },
     "execution_count": 4,
     "metadata": {},
     "output_type": "execute_result"
    }
   ],
   "source": [
    "data.describe()"
   ]
  },
  {
   "cell_type": "code",
   "execution_count": 5,
   "metadata": {},
   "outputs": [
    {
     "name": "stdout",
     "output_type": "stream",
     "text": [
      "<class 'pandas.core.frame.DataFrame'>\n",
      "RangeIndex: 506 entries, 0 to 505\n",
      "Data columns (total 14 columns):\n",
      "CRIM       506 non-null float64\n",
      "ZN         506 non-null float64\n",
      "INDUS      506 non-null float64\n",
      "CHAS       506 non-null int64\n",
      "NOX        506 non-null float64\n",
      "RM         501 non-null float64\n",
      "AGE        506 non-null float64\n",
      "DIS        506 non-null float64\n",
      "RAD        506 non-null int64\n",
      "TAX        506 non-null int64\n",
      "PTRATIO    506 non-null float64\n",
      "B          506 non-null float64\n",
      "LSTAT      506 non-null float64\n",
      "MEDV       506 non-null float64\n",
      "dtypes: float64(11), int64(3)\n",
      "memory usage: 55.5 KB\n"
     ]
    }
   ],
   "source": [
    "data.info()"
   ]
  },
  {
   "cell_type": "code",
   "execution_count": 6,
   "metadata": {},
   "outputs": [
    {
     "data": {
      "text/html": [
       "<div>\n",
       "<style scoped>\n",
       "    .dataframe tbody tr th:only-of-type {\n",
       "        vertical-align: middle;\n",
       "    }\n",
       "\n",
       "    .dataframe tbody tr th {\n",
       "        vertical-align: top;\n",
       "    }\n",
       "\n",
       "    .dataframe thead th {\n",
       "        text-align: right;\n",
       "    }\n",
       "</style>\n",
       "<table border=\"1\" class=\"dataframe\">\n",
       "  <thead>\n",
       "    <tr style=\"text-align: right;\">\n",
       "      <th></th>\n",
       "      <th>CRIM</th>\n",
       "      <th>ZN</th>\n",
       "      <th>INDUS</th>\n",
       "      <th>CHAS</th>\n",
       "      <th>NOX</th>\n",
       "      <th>RM</th>\n",
       "      <th>AGE</th>\n",
       "      <th>DIS</th>\n",
       "      <th>RAD</th>\n",
       "      <th>TAX</th>\n",
       "      <th>PTRATIO</th>\n",
       "      <th>B</th>\n",
       "      <th>LSTAT</th>\n",
       "      <th>MEDV</th>\n",
       "    </tr>\n",
       "  </thead>\n",
       "  <tbody>\n",
       "    <tr>\n",
       "      <td>10</td>\n",
       "      <td>0.22489</td>\n",
       "      <td>12.5</td>\n",
       "      <td>7.87</td>\n",
       "      <td>0</td>\n",
       "      <td>0.524</td>\n",
       "      <td>NaN</td>\n",
       "      <td>94.3</td>\n",
       "      <td>6.3467</td>\n",
       "      <td>5</td>\n",
       "      <td>311</td>\n",
       "      <td>15.2</td>\n",
       "      <td>392.52</td>\n",
       "      <td>20.45</td>\n",
       "      <td>15.0</td>\n",
       "    </tr>\n",
       "    <tr>\n",
       "      <td>35</td>\n",
       "      <td>0.06417</td>\n",
       "      <td>0.0</td>\n",
       "      <td>5.96</td>\n",
       "      <td>0</td>\n",
       "      <td>0.499</td>\n",
       "      <td>NaN</td>\n",
       "      <td>68.2</td>\n",
       "      <td>3.3603</td>\n",
       "      <td>5</td>\n",
       "      <td>279</td>\n",
       "      <td>19.2</td>\n",
       "      <td>396.90</td>\n",
       "      <td>9.68</td>\n",
       "      <td>18.9</td>\n",
       "    </tr>\n",
       "    <tr>\n",
       "      <td>63</td>\n",
       "      <td>0.12650</td>\n",
       "      <td>25.0</td>\n",
       "      <td>5.13</td>\n",
       "      <td>0</td>\n",
       "      <td>0.453</td>\n",
       "      <td>NaN</td>\n",
       "      <td>43.4</td>\n",
       "      <td>7.9809</td>\n",
       "      <td>8</td>\n",
       "      <td>284</td>\n",
       "      <td>19.7</td>\n",
       "      <td>395.58</td>\n",
       "      <td>9.50</td>\n",
       "      <td>25.0</td>\n",
       "    </tr>\n",
       "    <tr>\n",
       "      <td>96</td>\n",
       "      <td>0.11504</td>\n",
       "      <td>0.0</td>\n",
       "      <td>2.89</td>\n",
       "      <td>0</td>\n",
       "      <td>0.445</td>\n",
       "      <td>NaN</td>\n",
       "      <td>69.6</td>\n",
       "      <td>3.4952</td>\n",
       "      <td>2</td>\n",
       "      <td>276</td>\n",
       "      <td>18.0</td>\n",
       "      <td>391.83</td>\n",
       "      <td>11.34</td>\n",
       "      <td>21.4</td>\n",
       "    </tr>\n",
       "    <tr>\n",
       "      <td>135</td>\n",
       "      <td>0.55778</td>\n",
       "      <td>0.0</td>\n",
       "      <td>21.89</td>\n",
       "      <td>0</td>\n",
       "      <td>0.624</td>\n",
       "      <td>NaN</td>\n",
       "      <td>98.2</td>\n",
       "      <td>2.1107</td>\n",
       "      <td>4</td>\n",
       "      <td>437</td>\n",
       "      <td>21.2</td>\n",
       "      <td>394.67</td>\n",
       "      <td>16.96</td>\n",
       "      <td>18.1</td>\n",
       "    </tr>\n",
       "  </tbody>\n",
       "</table>\n",
       "</div>"
      ],
      "text/plain": [
       "        CRIM    ZN  INDUS  CHAS    NOX  RM   AGE     DIS  RAD  TAX  PTRATIO  \\\n",
       "10   0.22489  12.5   7.87     0  0.524 NaN  94.3  6.3467    5  311     15.2   \n",
       "35   0.06417   0.0   5.96     0  0.499 NaN  68.2  3.3603    5  279     19.2   \n",
       "63   0.12650  25.0   5.13     0  0.453 NaN  43.4  7.9809    8  284     19.7   \n",
       "96   0.11504   0.0   2.89     0  0.445 NaN  69.6  3.4952    2  276     18.0   \n",
       "135  0.55778   0.0  21.89     0  0.624 NaN  98.2  2.1107    4  437     21.2   \n",
       "\n",
       "          B  LSTAT  MEDV  \n",
       "10   392.52  20.45  15.0  \n",
       "35   396.90   9.68  18.9  \n",
       "63   395.58   9.50  25.0  \n",
       "96   391.83  11.34  21.4  \n",
       "135  394.67  16.96  18.1  "
      ]
     },
     "execution_count": 6,
     "metadata": {},
     "output_type": "execute_result"
    }
   ],
   "source": [
    "data[data.RM.isna()]"
   ]
  },
  {
   "cell_type": "code",
   "execution_count": 7,
   "metadata": {},
   "outputs": [],
   "source": [
    "data.RM.fillna(data.RM.median(), inplace = True)"
   ]
  },
  {
   "cell_type": "code",
   "execution_count": 8,
   "metadata": {},
   "outputs": [
    {
     "data": {
      "text/html": [
       "<div>\n",
       "<style scoped>\n",
       "    .dataframe tbody tr th:only-of-type {\n",
       "        vertical-align: middle;\n",
       "    }\n",
       "\n",
       "    .dataframe tbody tr th {\n",
       "        vertical-align: top;\n",
       "    }\n",
       "\n",
       "    .dataframe thead th {\n",
       "        text-align: right;\n",
       "    }\n",
       "</style>\n",
       "<table border=\"1\" class=\"dataframe\">\n",
       "  <thead>\n",
       "    <tr style=\"text-align: right;\">\n",
       "      <th></th>\n",
       "      <th>CRIM</th>\n",
       "      <th>ZN</th>\n",
       "      <th>INDUS</th>\n",
       "      <th>CHAS</th>\n",
       "      <th>NOX</th>\n",
       "      <th>RM</th>\n",
       "      <th>AGE</th>\n",
       "      <th>DIS</th>\n",
       "      <th>RAD</th>\n",
       "      <th>TAX</th>\n",
       "      <th>PTRATIO</th>\n",
       "      <th>B</th>\n",
       "      <th>LSTAT</th>\n",
       "      <th>MEDV</th>\n",
       "    </tr>\n",
       "  </thead>\n",
       "  <tbody>\n",
       "  </tbody>\n",
       "</table>\n",
       "</div>"
      ],
      "text/plain": [
       "Empty DataFrame\n",
       "Columns: [CRIM, ZN, INDUS, CHAS, NOX, RM, AGE, DIS, RAD, TAX, PTRATIO, B, LSTAT, MEDV]\n",
       "Index: []"
      ]
     },
     "execution_count": 8,
     "metadata": {},
     "output_type": "execute_result"
    }
   ],
   "source": [
    "data[data.RM.isna()]"
   ]
  },
  {
   "cell_type": "code",
   "execution_count": 9,
   "metadata": {},
   "outputs": [
    {
     "name": "stdout",
     "output_type": "stream",
     "text": [
      "<class 'pandas.core.frame.DataFrame'>\n",
      "RangeIndex: 506 entries, 0 to 505\n",
      "Data columns (total 14 columns):\n",
      "CRIM       506 non-null float64\n",
      "ZN         506 non-null float64\n",
      "INDUS      506 non-null float64\n",
      "CHAS       506 non-null int64\n",
      "NOX        506 non-null float64\n",
      "RM         506 non-null float64\n",
      "AGE        506 non-null float64\n",
      "DIS        506 non-null float64\n",
      "RAD        506 non-null int64\n",
      "TAX        506 non-null int64\n",
      "PTRATIO    506 non-null float64\n",
      "B          506 non-null float64\n",
      "LSTAT      506 non-null float64\n",
      "MEDV       506 non-null float64\n",
      "dtypes: float64(11), int64(3)\n",
      "memory usage: 55.5 KB\n"
     ]
    }
   ],
   "source": [
    "data.info()"
   ]
  },
  {
   "cell_type": "code",
   "execution_count": 10,
   "metadata": {},
   "outputs": [
    {
     "data": {
      "text/plain": [
       "array([[6.3200e-03, 1.8000e+01, 2.3100e+00, ..., 1.5300e+01, 3.9690e+02,\n",
       "        4.9800e+00],\n",
       "       [2.7310e-02, 0.0000e+00, 7.0700e+00, ..., 1.7800e+01, 3.9690e+02,\n",
       "        9.1400e+00],\n",
       "       [2.7290e-02, 0.0000e+00, 7.0700e+00, ..., 1.7800e+01, 3.9283e+02,\n",
       "        4.0300e+00],\n",
       "       ...,\n",
       "       [6.0760e-02, 0.0000e+00, 1.1930e+01, ..., 2.1000e+01, 3.9690e+02,\n",
       "        5.6400e+00],\n",
       "       [1.0959e-01, 0.0000e+00, 1.1930e+01, ..., 2.1000e+01, 3.9345e+02,\n",
       "        6.4800e+00],\n",
       "       [4.7410e-02, 0.0000e+00, 1.1930e+01, ..., 2.1000e+01, 3.9690e+02,\n",
       "        7.8800e+00]])"
      ]
     },
     "execution_count": 10,
     "metadata": {},
     "output_type": "execute_result"
    }
   ],
   "source": [
    "features = data.iloc[:,:-1].values\n",
    "features"
   ]
  },
  {
   "cell_type": "code",
   "execution_count": 11,
   "metadata": {},
   "outputs": [
    {
     "data": {
      "text/plain": [
       "array([[24. ],\n",
       "       [21.6],\n",
       "       [34.7],\n",
       "       [33.4],\n",
       "       [36.2],\n",
       "       [28.7],\n",
       "       [22.9],\n",
       "       [27.1],\n",
       "       [16.5],\n",
       "       [18.9],\n",
       "       [15. ],\n",
       "       [18.9],\n",
       "       [21.7],\n",
       "       [20.4],\n",
       "       [18.2],\n",
       "       [19.9],\n",
       "       [23.1],\n",
       "       [17.5],\n",
       "       [20.2],\n",
       "       [18.2],\n",
       "       [13.6],\n",
       "       [19.6],\n",
       "       [15.2],\n",
       "       [14.5],\n",
       "       [15.6],\n",
       "       [13.9],\n",
       "       [16.6],\n",
       "       [14.8],\n",
       "       [18.4],\n",
       "       [21. ],\n",
       "       [12.7],\n",
       "       [14.5],\n",
       "       [13.2],\n",
       "       [13.1],\n",
       "       [13.5],\n",
       "       [18.9],\n",
       "       [20. ],\n",
       "       [21. ],\n",
       "       [24.7],\n",
       "       [30.8],\n",
       "       [34.9],\n",
       "       [26.6],\n",
       "       [25.3],\n",
       "       [24.7],\n",
       "       [21.2],\n",
       "       [19.3],\n",
       "       [20. ],\n",
       "       [16.6],\n",
       "       [14.4],\n",
       "       [19.4],\n",
       "       [19.7],\n",
       "       [20.5],\n",
       "       [25. ],\n",
       "       [23.4],\n",
       "       [18.9],\n",
       "       [35.4],\n",
       "       [24.7],\n",
       "       [31.6],\n",
       "       [23.3],\n",
       "       [19.6],\n",
       "       [18.7],\n",
       "       [16. ],\n",
       "       [22.2],\n",
       "       [25. ],\n",
       "       [33. ],\n",
       "       [23.5],\n",
       "       [19.4],\n",
       "       [22. ],\n",
       "       [17.4],\n",
       "       [20.9],\n",
       "       [24.2],\n",
       "       [21.7],\n",
       "       [22.8],\n",
       "       [23.4],\n",
       "       [24.1],\n",
       "       [21.4],\n",
       "       [20. ],\n",
       "       [20.8],\n",
       "       [21.2],\n",
       "       [20.3],\n",
       "       [28. ],\n",
       "       [23.9],\n",
       "       [24.8],\n",
       "       [22.9],\n",
       "       [23.9],\n",
       "       [26.6],\n",
       "       [22.5],\n",
       "       [22.2],\n",
       "       [23.6],\n",
       "       [28.7],\n",
       "       [22.6],\n",
       "       [22. ],\n",
       "       [22.9],\n",
       "       [25. ],\n",
       "       [20.6],\n",
       "       [28.4],\n",
       "       [21.4],\n",
       "       [38.7],\n",
       "       [43.8],\n",
       "       [33.2],\n",
       "       [27.5],\n",
       "       [26.5],\n",
       "       [18.6],\n",
       "       [19.3],\n",
       "       [20.1],\n",
       "       [19.5],\n",
       "       [19.5],\n",
       "       [20.4],\n",
       "       [19.8],\n",
       "       [19.4],\n",
       "       [21.7],\n",
       "       [22.8],\n",
       "       [18.8],\n",
       "       [18.7],\n",
       "       [18.5],\n",
       "       [18.3],\n",
       "       [21.2],\n",
       "       [19.2],\n",
       "       [20.4],\n",
       "       [19.3],\n",
       "       [22. ],\n",
       "       [20.3],\n",
       "       [20.5],\n",
       "       [17.3],\n",
       "       [18.8],\n",
       "       [21.4],\n",
       "       [15.7],\n",
       "       [16.2],\n",
       "       [18. ],\n",
       "       [14.3],\n",
       "       [19.2],\n",
       "       [19.6],\n",
       "       [23. ],\n",
       "       [18.4],\n",
       "       [15.6],\n",
       "       [18.1],\n",
       "       [17.4],\n",
       "       [17.1],\n",
       "       [13.3],\n",
       "       [17.8],\n",
       "       [14. ],\n",
       "       [14.4],\n",
       "       [13.4],\n",
       "       [15.6],\n",
       "       [11.8],\n",
       "       [13.8],\n",
       "       [15.6],\n",
       "       [14.6],\n",
       "       [17.8],\n",
       "       [15.4],\n",
       "       [21.5],\n",
       "       [19.6],\n",
       "       [15.3],\n",
       "       [19.4],\n",
       "       [17. ],\n",
       "       [15.6],\n",
       "       [13.1],\n",
       "       [41.3],\n",
       "       [24.3],\n",
       "       [23.3],\n",
       "       [27. ],\n",
       "       [50. ],\n",
       "       [50. ],\n",
       "       [50. ],\n",
       "       [22.7],\n",
       "       [25. ],\n",
       "       [50. ],\n",
       "       [23.8],\n",
       "       [23.8],\n",
       "       [22.3],\n",
       "       [17.4],\n",
       "       [19.1],\n",
       "       [23.1],\n",
       "       [23.6],\n",
       "       [22.6],\n",
       "       [29.4],\n",
       "       [23.2],\n",
       "       [24.6],\n",
       "       [29.9],\n",
       "       [37.2],\n",
       "       [39.8],\n",
       "       [36.2],\n",
       "       [37.9],\n",
       "       [32.5],\n",
       "       [26.4],\n",
       "       [29.6],\n",
       "       [50. ],\n",
       "       [32. ],\n",
       "       [29.8],\n",
       "       [34.9],\n",
       "       [37. ],\n",
       "       [30.5],\n",
       "       [36.4],\n",
       "       [31.1],\n",
       "       [29.1],\n",
       "       [50. ],\n",
       "       [33.3],\n",
       "       [30.3],\n",
       "       [34.6],\n",
       "       [34.9],\n",
       "       [32.9],\n",
       "       [24.1],\n",
       "       [42.3],\n",
       "       [48.5],\n",
       "       [50. ],\n",
       "       [22.6],\n",
       "       [24.4],\n",
       "       [22.5],\n",
       "       [24.4],\n",
       "       [20. ],\n",
       "       [21.7],\n",
       "       [19.3],\n",
       "       [22.4],\n",
       "       [28.1],\n",
       "       [23.7],\n",
       "       [25. ],\n",
       "       [23.3],\n",
       "       [28.7],\n",
       "       [21.5],\n",
       "       [23. ],\n",
       "       [26.7],\n",
       "       [21.7],\n",
       "       [27.5],\n",
       "       [30.1],\n",
       "       [44.8],\n",
       "       [50. ],\n",
       "       [37.6],\n",
       "       [31.6],\n",
       "       [46.7],\n",
       "       [31.5],\n",
       "       [24.3],\n",
       "       [31.7],\n",
       "       [41.7],\n",
       "       [48.3],\n",
       "       [29. ],\n",
       "       [24. ],\n",
       "       [25.1],\n",
       "       [31.5],\n",
       "       [23.7],\n",
       "       [23.3],\n",
       "       [22. ],\n",
       "       [20.1],\n",
       "       [22.2],\n",
       "       [23.7],\n",
       "       [17.6],\n",
       "       [18.5],\n",
       "       [24.3],\n",
       "       [20.5],\n",
       "       [24.5],\n",
       "       [26.2],\n",
       "       [24.4],\n",
       "       [24.8],\n",
       "       [29.6],\n",
       "       [42.8],\n",
       "       [21.9],\n",
       "       [20.9],\n",
       "       [44. ],\n",
       "       [50. ],\n",
       "       [36. ],\n",
       "       [30.1],\n",
       "       [33.8],\n",
       "       [43.1],\n",
       "       [48.8],\n",
       "       [31. ],\n",
       "       [36.5],\n",
       "       [22.8],\n",
       "       [30.7],\n",
       "       [50. ],\n",
       "       [43.5],\n",
       "       [20.7],\n",
       "       [21.1],\n",
       "       [25.2],\n",
       "       [24.4],\n",
       "       [35.2],\n",
       "       [32.4],\n",
       "       [32. ],\n",
       "       [33.2],\n",
       "       [33.1],\n",
       "       [29.1],\n",
       "       [35.1],\n",
       "       [45.4],\n",
       "       [35.4],\n",
       "       [46. ],\n",
       "       [50. ],\n",
       "       [32.2],\n",
       "       [22. ],\n",
       "       [20.1],\n",
       "       [23.2],\n",
       "       [22.3],\n",
       "       [24.8],\n",
       "       [28.5],\n",
       "       [37.3],\n",
       "       [27.9],\n",
       "       [23.9],\n",
       "       [21.7],\n",
       "       [28.6],\n",
       "       [27.1],\n",
       "       [20.3],\n",
       "       [22.5],\n",
       "       [29. ],\n",
       "       [24.8],\n",
       "       [22. ],\n",
       "       [26.4],\n",
       "       [33.1],\n",
       "       [36.1],\n",
       "       [28.4],\n",
       "       [33.4],\n",
       "       [28.2],\n",
       "       [22.8],\n",
       "       [20.3],\n",
       "       [16.1],\n",
       "       [22.1],\n",
       "       [19.4],\n",
       "       [21.6],\n",
       "       [23.8],\n",
       "       [16.2],\n",
       "       [17.8],\n",
       "       [19.8],\n",
       "       [23.1],\n",
       "       [21. ],\n",
       "       [23.8],\n",
       "       [23.1],\n",
       "       [20.4],\n",
       "       [18.5],\n",
       "       [25. ],\n",
       "       [24.6],\n",
       "       [23. ],\n",
       "       [22.2],\n",
       "       [19.3],\n",
       "       [22.6],\n",
       "       [19.8],\n",
       "       [17.1],\n",
       "       [19.4],\n",
       "       [22.2],\n",
       "       [20.7],\n",
       "       [21.1],\n",
       "       [19.5],\n",
       "       [18.5],\n",
       "       [20.6],\n",
       "       [19. ],\n",
       "       [18.7],\n",
       "       [32.7],\n",
       "       [16.5],\n",
       "       [23.9],\n",
       "       [31.2],\n",
       "       [17.5],\n",
       "       [17.2],\n",
       "       [23.1],\n",
       "       [24.5],\n",
       "       [26.6],\n",
       "       [22.9],\n",
       "       [24.1],\n",
       "       [18.6],\n",
       "       [30.1],\n",
       "       [18.2],\n",
       "       [20.6],\n",
       "       [17.8],\n",
       "       [21.7],\n",
       "       [22.7],\n",
       "       [22.6],\n",
       "       [25. ],\n",
       "       [19.9],\n",
       "       [20.8],\n",
       "       [16.8],\n",
       "       [21.9],\n",
       "       [27.5],\n",
       "       [21.9],\n",
       "       [23.1],\n",
       "       [50. ],\n",
       "       [50. ],\n",
       "       [50. ],\n",
       "       [50. ],\n",
       "       [50. ],\n",
       "       [13.8],\n",
       "       [13.8],\n",
       "       [15. ],\n",
       "       [13.9],\n",
       "       [13.3],\n",
       "       [13.1],\n",
       "       [10.2],\n",
       "       [10.4],\n",
       "       [10.9],\n",
       "       [11.3],\n",
       "       [12.3],\n",
       "       [ 8.8],\n",
       "       [ 7.2],\n",
       "       [10.5],\n",
       "       [ 7.4],\n",
       "       [10.2],\n",
       "       [11.5],\n",
       "       [15.1],\n",
       "       [23.2],\n",
       "       [ 9.7],\n",
       "       [13.8],\n",
       "       [12.7],\n",
       "       [13.1],\n",
       "       [12.5],\n",
       "       [ 8.5],\n",
       "       [ 5. ],\n",
       "       [ 6.3],\n",
       "       [ 5.6],\n",
       "       [ 7.2],\n",
       "       [12.1],\n",
       "       [ 8.3],\n",
       "       [ 8.5],\n",
       "       [ 5. ],\n",
       "       [11.9],\n",
       "       [27.9],\n",
       "       [17.2],\n",
       "       [27.5],\n",
       "       [15. ],\n",
       "       [17.2],\n",
       "       [17.9],\n",
       "       [16.3],\n",
       "       [ 7. ],\n",
       "       [ 7.2],\n",
       "       [ 7.5],\n",
       "       [10.4],\n",
       "       [ 8.8],\n",
       "       [ 8.4],\n",
       "       [16.7],\n",
       "       [14.2],\n",
       "       [20.8],\n",
       "       [13.4],\n",
       "       [11.7],\n",
       "       [ 8.3],\n",
       "       [10.2],\n",
       "       [10.9],\n",
       "       [11. ],\n",
       "       [ 9.5],\n",
       "       [14.5],\n",
       "       [14.1],\n",
       "       [16.1],\n",
       "       [14.3],\n",
       "       [11.7],\n",
       "       [13.4],\n",
       "       [ 9.6],\n",
       "       [ 8.7],\n",
       "       [ 8.4],\n",
       "       [12.8],\n",
       "       [10.5],\n",
       "       [17.1],\n",
       "       [18.4],\n",
       "       [15.4],\n",
       "       [10.8],\n",
       "       [11.8],\n",
       "       [14.9],\n",
       "       [12.6],\n",
       "       [14.1],\n",
       "       [13. ],\n",
       "       [13.4],\n",
       "       [15.2],\n",
       "       [16.1],\n",
       "       [17.8],\n",
       "       [14.9],\n",
       "       [14.1],\n",
       "       [12.7],\n",
       "       [13.5],\n",
       "       [14.9],\n",
       "       [20. ],\n",
       "       [16.4],\n",
       "       [17.7],\n",
       "       [19.5],\n",
       "       [20.2],\n",
       "       [21.4],\n",
       "       [19.9],\n",
       "       [19. ],\n",
       "       [19.1],\n",
       "       [19.1],\n",
       "       [20.1],\n",
       "       [19.9],\n",
       "       [19.6],\n",
       "       [23.2],\n",
       "       [29.8],\n",
       "       [13.8],\n",
       "       [13.3],\n",
       "       [16.7],\n",
       "       [12. ],\n",
       "       [14.6],\n",
       "       [21.4],\n",
       "       [23. ],\n",
       "       [23.7],\n",
       "       [25. ],\n",
       "       [21.8],\n",
       "       [20.6],\n",
       "       [21.2],\n",
       "       [19.1],\n",
       "       [20.6],\n",
       "       [15.2],\n",
       "       [ 7. ],\n",
       "       [ 8.1],\n",
       "       [13.6],\n",
       "       [20.1],\n",
       "       [21.8],\n",
       "       [24.5],\n",
       "       [23.1],\n",
       "       [19.7],\n",
       "       [18.3],\n",
       "       [21.2],\n",
       "       [17.5],\n",
       "       [16.8],\n",
       "       [22.4],\n",
       "       [20.6],\n",
       "       [23.9],\n",
       "       [22. ],\n",
       "       [11.9]])"
      ]
     },
     "execution_count": 11,
     "metadata": {},
     "output_type": "execute_result"
    }
   ],
   "source": [
    "label = data.iloc[:,[-1]].values\n",
    "label"
   ]
  },
  {
   "cell_type": "code",
   "execution_count": 12,
   "metadata": {},
   "outputs": [
    {
     "name": "stdout",
     "output_type": "stream",
     "text": [
      "(506, 13)\n",
      "(506, 1)\n"
     ]
    }
   ],
   "source": [
    "print(features.shape)\n",
    "print(label.shape)"
   ]
  },
  {
   "cell_type": "code",
   "execution_count": 13,
   "metadata": {},
   "outputs": [],
   "source": [
    "from sklearn.model_selection import train_test_split\n",
    "\n",
    "X_train, X_test, y_train, y_test = train_test_split(features,\n",
    "                                                    label, \n",
    "                                                    test_size=0.2, \n",
    "                                                    random_state=85)"
   ]
  },
  {
   "cell_type": "code",
   "execution_count": 14,
   "metadata": {},
   "outputs": [
    {
     "data": {
      "text/plain": [
       "LinearRegression()"
      ]
     },
     "execution_count": 14,
     "metadata": {},
     "output_type": "execute_result"
    }
   ],
   "source": [
    "from sklearn.linear_model import LinearRegression\n",
    "model = LinearRegression()\n",
    "model.fit(X_train, y_train)"
   ]
  },
  {
   "cell_type": "code",
   "execution_count": 15,
   "metadata": {},
   "outputs": [
    {
     "data": {
      "text/plain": [
       "0.7155344516129927"
      ]
     },
     "execution_count": 15,
     "metadata": {},
     "output_type": "execute_result"
    }
   ],
   "source": [
    "model.score(X_train, y_train)"
   ]
  },
  {
   "cell_type": "code",
   "execution_count": 16,
   "metadata": {},
   "outputs": [
    {
     "data": {
      "text/plain": [
       "0.8296263045500001"
      ]
     },
     "execution_count": 16,
     "metadata": {},
     "output_type": "execute_result"
    }
   ],
   "source": [
    "model.score(X_test, y_test)"
   ]
  },
  {
   "cell_type": "code",
   "execution_count": 17,
   "metadata": {},
   "outputs": [
    {
     "data": {
      "text/plain": [
       "KNeighborsRegressor(n_neighbors=11)"
      ]
     },
     "execution_count": 17,
     "metadata": {},
     "output_type": "execute_result"
    }
   ],
   "source": [
    "#Applying K-NN Assuming k = 3\n",
    "from sklearn.neighbors import KNeighborsRegressor\n",
    "model2 = KNeighborsRegressor(n_neighbors=11,\n",
    "                             metric='minkowski',\n",
    "                             p = 2)\n",
    "model2.fit(X_train,y_train)"
   ]
  },
  {
   "cell_type": "code",
   "execution_count": 18,
   "metadata": {},
   "outputs": [
    {
     "data": {
      "text/plain": [
       "0.5443628422685274"
      ]
     },
     "execution_count": 18,
     "metadata": {},
     "output_type": "execute_result"
    }
   ],
   "source": [
    "model2.score(X_train, y_train)"
   ]
  },
  {
   "cell_type": "code",
   "execution_count": 19,
   "metadata": {},
   "outputs": [
    {
     "data": {
      "text/plain": [
       "0.5731949747618788"
      ]
     },
     "execution_count": 19,
     "metadata": {},
     "output_type": "execute_result"
    }
   ],
   "source": [
    "model2.score(X_test, y_test)"
   ]
  },
  {
   "cell_type": "code",
   "execution_count": 20,
   "metadata": {},
   "outputs": [
    {
     "data": {
      "text/plain": [
       "DecisionTreeRegressor()"
      ]
     },
     "execution_count": 20,
     "metadata": {},
     "output_type": "execute_result"
    }
   ],
   "source": [
    "from sklearn.tree import DecisionTreeRegressor\n",
    "model3 = DecisionTreeRegressor()\n",
    "model3.fit(X_train,y_train)"
   ]
  },
  {
   "cell_type": "code",
   "execution_count": 21,
   "metadata": {},
   "outputs": [
    {
     "data": {
      "text/plain": [
       "1.0"
      ]
     },
     "execution_count": 21,
     "metadata": {},
     "output_type": "execute_result"
    }
   ],
   "source": [
    "model3.score(X_train, y_train)"
   ]
  },
  {
   "cell_type": "code",
   "execution_count": 22,
   "metadata": {},
   "outputs": [
    {
     "data": {
      "text/plain": [
       "0.8377543409775406"
      ]
     },
     "execution_count": 22,
     "metadata": {},
     "output_type": "execute_result"
    }
   ],
   "source": [
    "model3.score(X_test, y_test)"
   ]
  },
  {
   "cell_type": "code",
   "execution_count": 23,
   "metadata": {},
   "outputs": [
    {
     "name": "stderr",
     "output_type": "stream",
     "text": [
      "C:\\Users\\KiranThakur\\Anaconda3\\lib\\site-packages\\ipykernel_launcher.py:3: DataConversionWarning: A column-vector y was passed when a 1d array was expected. Please change the shape of y to (n_samples,), for example using ravel().\n",
      "  This is separate from the ipykernel package so we can avoid doing imports until\n"
     ]
    },
    {
     "data": {
      "text/plain": [
       "RandomForestRegressor()"
      ]
     },
     "execution_count": 23,
     "metadata": {},
     "output_type": "execute_result"
    }
   ],
   "source": [
    "from sklearn.ensemble import RandomForestRegressor\n",
    "model4 = RandomForestRegressor()\n",
    "model4.fit(X_train,y_train)"
   ]
  },
  {
   "cell_type": "code",
   "execution_count": 24,
   "metadata": {},
   "outputs": [
    {
     "data": {
      "text/plain": [
       "0.9825056993401229"
      ]
     },
     "execution_count": 24,
     "metadata": {},
     "output_type": "execute_result"
    }
   ],
   "source": [
    "model4.score(X_train,y_train)"
   ]
  },
  {
   "cell_type": "code",
   "execution_count": 25,
   "metadata": {},
   "outputs": [
    {
     "data": {
      "text/plain": [
       "0.9110535325664526"
      ]
     },
     "execution_count": 25,
     "metadata": {},
     "output_type": "execute_result"
    }
   ],
   "source": [
    "model4.score(X_test, y_test)"
   ]
  },
  {
   "cell_type": "code",
   "execution_count": 26,
   "metadata": {},
   "outputs": [
    {
     "data": {
      "text/plain": [
       "array([ 0.73083242,  0.46196597, -1.00708331,  0.64005701,  0.54616501,\n",
       "        0.73504795,  0.38318019, -0.13229552, -0.76574791,  0.41722728])"
      ]
     },
     "execution_count": 26,
     "metadata": {},
     "output_type": "execute_result"
    }
   ],
   "source": [
    "from sklearn.linear_model import LinearRegression\n",
    "from sklearn.model_selection import cross_val_score\n",
    "\n",
    "algo = LinearRegression()\n",
    "cross_val_score(algo,features,label,cv=10)"
   ]
  },
  {
   "cell_type": "code",
   "execution_count": 27,
   "metadata": {},
   "outputs": [
    {
     "name": "stdout",
     "output_type": "stream",
     "text": [
      "Training score is 0.7325627200890091 and Testing score is 0.7785225723752252 for Sample Spilt 1\n",
      "Training score is 0.7331582860392547 and Testing score is 0.7655297349673833 for Sample Spilt 2\n",
      "Training score is 0.7240609167638119 and Testing score is 0.8728255646463455 for Sample Spilt 3\n",
      "Training score is 0.763041119560995 and Testing score is 0.4398134922706023 for Sample Spilt 4\n",
      "Training score is 0.7268051262313489 and Testing score is 0.8470279383642924 for Sample Spilt 5\n",
      "Training score is 0.7380125240337316 and Testing score is 0.7092143581457626 for Sample Spilt 6\n",
      "Training score is 0.7374536008779178 and Testing score is 0.7211192222723852 for Sample Spilt 7\n",
      "Training score is 0.7507248767300158 and Testing score is 0.5944608570674628 for Sample Spilt 8\n",
      "Training score is 0.7407830536411056 and Testing score is 0.6982986432280185 for Sample Spilt 9\n",
      "Training score is 0.7340689931218201 and Testing score is 0.7562395778454395 for Sample Spilt 10\n"
     ]
    }
   ],
   "source": [
    "# Fold Validation Technique\n",
    "# K-fold cross validation technique\n",
    "\n",
    "from sklearn.linear_model import LinearRegression\n",
    "\n",
    "model5 = LinearRegression()\n",
    "\n",
    "from sklearn.model_selection import KFold\n",
    "\n",
    "kfold = KFold(n_splits = 10,\n",
    "             shuffle = True, # shuffle=True mean randomely records will be selected\n",
    "             random_state = 1)\n",
    "\n",
    "i=0\n",
    "for train,test in kfold.split(features):\n",
    "    i=i+1\n",
    "    X_train,X_test = features[train],features[test]\n",
    "    y_train,y_test = label[train],label[test]\n",
    "    model5.fit(X_train,y_train)\n",
    "    print('Training score is {} and Testing score is {} for Sample Spilt {}'\n",
    "          .format(model.score(X_train,y_train),model5.score(X_test,y_test),i))"
   ]
  },
  {
   "cell_type": "code",
   "execution_count": 28,
   "metadata": {},
   "outputs": [],
   "source": [
    "from sklearn.model_selection import KFold\n",
    "\n",
    "kfold = KFold(n_splits = 10,\n",
    "             shuffle = True, # shuffle=True mean randomely records will be selected\n",
    "             random_state = 1)\n",
    "\n",
    "i=0\n",
    "for train,test in kfold.split(features):\n",
    "    i=i+1\n",
    "    if i ==3:\n",
    "        X_train_final,X_test_final,y_train_final,y_test_final = features[train],features[test],label[train],label[test]"
   ]
  },
  {
   "cell_type": "code",
   "execution_count": 29,
   "metadata": {},
   "outputs": [
    {
     "data": {
      "text/plain": [
       "LinearRegression()"
      ]
     },
     "execution_count": 29,
     "metadata": {},
     "output_type": "execute_result"
    }
   ],
   "source": [
    "from sklearn.linear_model import LinearRegression\n",
    "\n",
    "finalModel = LinearRegression()\n",
    "finalModel.fit(X_train_final,y_train_final)"
   ]
  },
  {
   "cell_type": "code",
   "execution_count": 30,
   "metadata": {},
   "outputs": [
    {
     "data": {
      "text/plain": [
       "0.725915441235989"
      ]
     },
     "execution_count": 30,
     "metadata": {},
     "output_type": "execute_result"
    }
   ],
   "source": [
    "finalModel.score(X_train_final,y_train_final)"
   ]
  },
  {
   "cell_type": "code",
   "execution_count": 31,
   "metadata": {},
   "outputs": [
    {
     "data": {
      "text/plain": [
       "0.8728255646463455"
      ]
     },
     "execution_count": 31,
     "metadata": {},
     "output_type": "execute_result"
    }
   ],
   "source": [
    "finalModel.score(X_test_final,y_test_final)"
   ]
  },
  {
   "cell_type": "code",
   "execution_count": 32,
   "metadata": {},
   "outputs": [],
   "source": [
    "# #Create Features -\n",
    "# features = np.array([[-5.43942006, 4.12628155, -1.6165014, -0.67288841, -1.42262747,\n",
    "#        -11.44443979304, -49.31238772,  7.61111401, -26.0016879 , -0.5778192 ,\n",
    "#        -0.97491834,  0.41164221, -66.86091034]])\n",
    "\n",
    "\n",
    "# #Predict by Model -\n",
    "# print(\"The price (MEDV) will be: \",finalModel.predict(features))"
   ]
  },
  {
   "cell_type": "code",
   "execution_count": 33,
   "metadata": {},
   "outputs": [],
   "source": [
    "# #Create Features -\n",
    "# features = np.array([[0.00632, 18, 2.31, 0, 0.538,\n",
    "#        6.575, 65.2,  4.09, 1, 296,\n",
    "#        15.3,  396.9, 4.98]])\n",
    "\n",
    "\n",
    "# #Predict by Model -\n",
    "# print(\"The price (MEDV) will be: \",finalModel.predict(features))"
   ]
  },
  {
   "cell_type": "code",
   "execution_count": 34,
   "metadata": {},
   "outputs": [
    {
     "data": {
      "text/plain": [
       "array([[-1.        , -0.64      , -0.8643695 , ..., -0.42553191,\n",
       "         1.        , -0.82064018],\n",
       "       [-0.99952815, -1.        , -0.51539589, ...,  0.10638298,\n",
       "         1.        , -0.5910596 ],\n",
       "       [-0.9995286 , -1.        , -0.51539589, ...,  0.10638298,\n",
       "         0.97947451, -0.87306843],\n",
       "       ...,\n",
       "       [-0.99877622, -1.        , -0.15909091, ...,  0.78723404,\n",
       "         1.        , -0.78421634],\n",
       "       [-0.99767854, -1.        , -0.15909091, ...,  0.78723404,\n",
       "         0.98260124, -0.73785872],\n",
       "       [-0.99907632, -1.        , -0.15909091, ...,  0.78723404,\n",
       "         1.        , -0.66059603]])"
      ]
     },
     "execution_count": 34,
     "metadata": {},
     "output_type": "execute_result"
    }
   ],
   "source": [
    "from sklearn.preprocessing import MinMaxScaler\n",
    "\n",
    "scale= MinMaxScaler(feature_range=(-1,1))\n",
    "features = scale.fit_transform(features)\n",
    "features"
   ]
  },
  {
   "cell_type": "code",
   "execution_count": 35,
   "metadata": {},
   "outputs": [
    {
     "name": "stdout",
     "output_type": "stream",
     "text": [
      "(506, 13)\n",
      "(506, 1)\n"
     ]
    }
   ],
   "source": [
    "print(features.shape)\n",
    "print(label.shape)"
   ]
  },
  {
   "cell_type": "code",
   "execution_count": 36,
   "metadata": {},
   "outputs": [],
   "source": [
    "from sklearn.model_selection import train_test_split\n",
    "\n",
    "X_train, X_test, y_train, y_test = train_test_split(features,\n",
    "                                                    label, \n",
    "                                                    test_size=0.2, \n",
    "                                                    random_state=85)"
   ]
  },
  {
   "cell_type": "code",
   "execution_count": 37,
   "metadata": {},
   "outputs": [
    {
     "data": {
      "text/plain": [
       "LinearRegression()"
      ]
     },
     "execution_count": 37,
     "metadata": {},
     "output_type": "execute_result"
    }
   ],
   "source": [
    "from sklearn.linear_model import LinearRegression\n",
    "finalmodel1 = LinearRegression()\n",
    "finalmodel1.fit(X_train, y_train)"
   ]
  },
  {
   "cell_type": "code",
   "execution_count": 38,
   "metadata": {},
   "outputs": [
    {
     "data": {
      "text/plain": [
       "0.7155344516129927"
      ]
     },
     "execution_count": 38,
     "metadata": {},
     "output_type": "execute_result"
    }
   ],
   "source": [
    "finalmodel1.score(X_train,y_train)"
   ]
  },
  {
   "cell_type": "code",
   "execution_count": 39,
   "metadata": {},
   "outputs": [
    {
     "data": {
      "text/plain": [
       "0.8296263045499991"
      ]
     },
     "execution_count": 39,
     "metadata": {},
     "output_type": "execute_result"
    }
   ],
   "source": [
    "finalmodel1.score(X_test,y_test)"
   ]
  },
  {
   "cell_type": "code",
   "execution_count": 40,
   "metadata": {},
   "outputs": [
    {
     "name": "stderr",
     "output_type": "stream",
     "text": [
      "C:\\Users\\KiranThakur\\Anaconda3\\lib\\site-packages\\sklearn\\utils\\validation.py:73: DataConversionWarning: A column-vector y was passed when a 1d array was expected. Please change the shape of y to (n_samples, ), for example using ravel().\n",
      "  return f(**kwargs)\n"
     ]
    },
    {
     "data": {
      "text/plain": [
       "SVR(gamma='auto')"
      ]
     },
     "execution_count": 40,
     "metadata": {},
     "output_type": "execute_result"
    }
   ],
   "source": [
    "from sklearn.svm import SVR  #Support Vector Classifier & SVC is the support vector machine algorithm fot the multiclass \n",
    "\n",
    "finalmodel2 = SVR(kernel='rbf',gamma='auto') #Best practice is to set Gamma inbetween 0 to 1 & rbf=radial bais function\n",
    "finalmodel2.fit(X_train,y_train)"
   ]
  },
  {
   "cell_type": "code",
   "execution_count": 41,
   "metadata": {},
   "outputs": [
    {
     "data": {
      "text/plain": [
       "0.5141773738445675"
      ]
     },
     "execution_count": 41,
     "metadata": {},
     "output_type": "execute_result"
    }
   ],
   "source": [
    "finalmodel2.score(X_train,y_train)"
   ]
  },
  {
   "cell_type": "code",
   "execution_count": 42,
   "metadata": {},
   "outputs": [
    {
     "data": {
      "text/plain": [
       "0.6212842655214726"
      ]
     },
     "execution_count": 42,
     "metadata": {},
     "output_type": "execute_result"
    }
   ],
   "source": [
    "finalmodel2.score(X_test,y_test)"
   ]
  },
  {
   "cell_type": "code",
   "execution_count": 43,
   "metadata": {},
   "outputs": [],
   "source": [
    "from sklearn.preprocessing import StandardScaler\n",
    "\n",
    "sc = StandardScaler()\n",
    "features = sc.fit_transform(features)"
   ]
  },
  {
   "cell_type": "code",
   "execution_count": 44,
   "metadata": {},
   "outputs": [
    {
     "data": {
      "text/plain": [
       "PCA(n_components=11)"
      ]
     },
     "execution_count": 44,
     "metadata": {},
     "output_type": "execute_result"
    }
   ],
   "source": [
    "from sklearn.decomposition import PCA\n",
    "principalComponents = PCA(n_components = 11)   # here no of components should not be greater than no. of features so another trick\n",
    "principalComponents.fit(features,label)"
   ]
  },
  {
   "cell_type": "code",
   "execution_count": 45,
   "metadata": {},
   "outputs": [
    {
     "data": {
      "text/plain": [
       "array([0.47124644, 0.11029527, 0.0956676 , 0.06600537, 0.06423805,\n",
       "       0.05057238, 0.04118756, 0.03040547, 0.02130442, 0.0168738 ,\n",
       "       0.01432064])"
      ]
     },
     "execution_count": 45,
     "metadata": {},
     "output_type": "execute_result"
    }
   ],
   "source": [
    "principalComponents.explained_variance_ratio_"
   ]
  },
  {
   "cell_type": "code",
   "execution_count": 46,
   "metadata": {},
   "outputs": [],
   "source": [
    "finalFeatures = principalComponents.transform(features)"
   ]
  },
  {
   "cell_type": "code",
   "execution_count": 47,
   "metadata": {},
   "outputs": [
    {
     "data": {
      "text/plain": [
       "LinearRegression()"
      ]
     },
     "execution_count": 47,
     "metadata": {},
     "output_type": "execute_result"
    }
   ],
   "source": [
    "from sklearn.linear_model import LinearRegression\n",
    "\n",
    "modelpca = LinearRegression()\n",
    "modelpca.fit(finalFeatures,label)"
   ]
  },
  {
   "cell_type": "code",
   "execution_count": 48,
   "metadata": {},
   "outputs": [
    {
     "data": {
      "text/plain": [
       "0.7121567643434552"
      ]
     },
     "execution_count": 48,
     "metadata": {},
     "output_type": "execute_result"
    }
   ],
   "source": [
    "modelpca.score(finalFeatures,label)"
   ]
  },
  {
   "cell_type": "code",
   "execution_count": 49,
   "metadata": {},
   "outputs": [],
   "source": [
    "from sklearn.metrics import mean_squared_error\n",
    "housing_predictions = finalModel.predict(X_train_final)\n",
    "mse = mean_squared_error(y_train_final, housing_predictions)\n",
    "rmse = np.sqrt(mse)"
   ]
  },
  {
   "cell_type": "code",
   "execution_count": 50,
   "metadata": {},
   "outputs": [
    {
     "data": {
      "text/plain": [
       "4.835861890167238"
      ]
     },
     "execution_count": 50,
     "metadata": {},
     "output_type": "execute_result"
    }
   ],
   "source": [
    "rmse"
   ]
  }
 ],
 "metadata": {
  "kernelspec": {
   "display_name": "Python 3",
   "language": "python",
   "name": "python3"
  },
  "language_info": {
   "codemirror_mode": {
    "name": "ipython",
    "version": 3
   },
   "file_extension": ".py",
   "mimetype": "text/x-python",
   "name": "python",
   "nbconvert_exporter": "python",
   "pygments_lexer": "ipython3",
   "version": "3.7.4"
  }
 },
 "nbformat": 4,
 "nbformat_minor": 2
}
