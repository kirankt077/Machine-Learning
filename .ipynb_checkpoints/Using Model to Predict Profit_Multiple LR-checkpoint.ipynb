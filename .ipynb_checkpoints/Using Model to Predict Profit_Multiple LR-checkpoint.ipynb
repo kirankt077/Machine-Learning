{
 "cells": [
  {
   "cell_type": "code",
   "execution_count": 1,
   "metadata": {},
   "outputs": [],
   "source": [
    "import pickle\n",
    "import numpy as np"
   ]
  },
  {
   "cell_type": "code",
   "execution_count": 2,
   "metadata": {},
   "outputs": [],
   "source": [
    "model = pickle.load(open('PorfitPredictor.model','rb')) ## Load the file and rb= read in bytes"
   ]
  },
  {
   "cell_type": "code",
   "execution_count": null,
   "metadata": {},
   "outputs": [],
   "source": [
    "rdspend = float(input ('Enter R&D spend'))\n",
    "adspend = float(input ('Enter Add spend'))\n",
    "marketing = float(input ('Enter marketing spend'))\n",
    "state = input ('Enter state: ')\n",
    "\n",
    "if rdspend > 0 :\n",
    "    labelState = np.array([state])\n",
    "    features=np.array([[rdspend,adspend,marketing,labelState]])\n",
    "   # finalFeatures = ohe.transform(features).toarray()\n",
    "    print(\"Profit is \",model.predict(Features))\n",
    "else:\n",
    "    print(\"Model is not aware of {} state\".format(state))"
   ]
  }
 ],
 "metadata": {
  "kernelspec": {
   "display_name": "Python 3",
   "language": "python",
   "name": "python3"
  },
  "language_info": {
   "codemirror_mode": {
    "name": "ipython",
    "version": 3
   },
   "file_extension": ".py",
   "mimetype": "text/x-python",
   "name": "python",
   "nbconvert_exporter": "python",
   "pygments_lexer": "ipython3",
   "version": "3.7.4"
  }
 },
 "nbformat": 4,
 "nbformat_minor": 2
}
