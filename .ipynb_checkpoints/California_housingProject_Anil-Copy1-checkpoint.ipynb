{
 "cells": [
  {
   "cell_type": "code",
   "execution_count": 0,
   "metadata": {
    "colab": {},
    "colab_type": "code",
    "id": "iz95ZSWcPtNc"
   },
   "outputs": [],
   "source": [
    "import numpy as np\n",
    "import matplotlib.pyplot as plt\n",
    "import pandas as pd\n",
    "import seaborn as sns\n",
    "get_ipython().run_line_magic('matplotlib', 'inline')"
   ]
  },
  {
   "cell_type": "code",
   "execution_count": 0,
   "metadata": {
    "colab": {},
    "colab_type": "code",
    "id": "pkB5oFnKPtN-"
   },
   "outputs": [],
   "source": [
    "# Anil Sista Housing Project"
   ]
  },
  {
   "cell_type": "code",
   "execution_count": 0,
   "metadata": {
    "colab": {},
    "colab_type": "code",
    "id": "HY00B_N1PtOK"
   },
   "outputs": [],
   "source": [
    "dataset = pd.read_csv(\"C:\\\\Users\\Anilsista\\Downloads\\\\housing.csv\")"
   ]
  },
  {
   "cell_type": "code",
   "execution_count": 0,
   "metadata": {
    "colab": {},
    "colab_type": "code",
    "id": "f_92RN-APtOf"
   },
   "outputs": [],
   "source": [
    "##Eliminating Null vallues from the dataset.\n",
    "dataset\n",
    "dataset.isnull().sum()\n",
    "modifieddataset =dataset.fillna(\" \")\n",
    "modifieddataset.isnull().sum()\n",
    "dataset = modifieddataset"
   ]
  },
  {
   "cell_type": "code",
   "execution_count": 0,
   "metadata": {
    "colab": {},
    "colab_type": "code",
    "id": "LP7h0RIzPtOj"
   },
   "outputs": [],
   "source": [
    "dataset.info()"
   ]
  },
  {
   "cell_type": "code",
   "execution_count": 0,
   "metadata": {
    "colab": {},
    "colab_type": "code",
    "id": "rG1gj3QwPtOy"
   },
   "outputs": [],
   "source": [
    "dataset.columns\n",
    "dataset.isnull()"
   ]
  },
  {
   "cell_type": "code",
   "execution_count": 0,
   "metadata": {
    "colab": {},
    "colab_type": "code",
    "id": "uqw6QBoxPtO4"
   },
   "outputs": [],
   "source": [
    "pd.isnull(dataset).sum() > 0"
   ]
  },
  {
   "cell_type": "code",
   "execution_count": 0,
   "metadata": {
    "colab": {},
    "colab_type": "code",
    "id": "ZGLlBbezPtO-"
   },
   "outputs": [],
   "source": [
    "dataset.info()\n",
    "\n",
    "dataset = dataset.dropna(subset=['total_bedrooms'])"
   ]
  },
  {
   "cell_type": "code",
   "execution_count": 0,
   "metadata": {
    "colab": {},
    "colab_type": "code",
    "id": "ngc34a3yPtPF"
   },
   "outputs": [],
   "source": [
    "dataset['total_bedrooms'].isnull().sum()\n",
    "\n",
    "dataset.to_csv(\"C://ML_Simplilearn//Projects//housing_cleaned.csv\", index=True)\n",
    "dataset = pd.read_csv(\"C://ML_Simplilearn//Projects//housing_cleaned.csv\")"
   ]
  },
  {
   "cell_type": "code",
   "execution_count": 0,
   "metadata": {
    "colab": {},
    "colab_type": "code",
    "id": "1I6HuMwsPtPJ"
   },
   "outputs": [],
   "source": [
    "from sklearn.preprocessing import LabelEncoder\n",
    "dataset_le = LabelEncoder()\n",
    "for total_bedrooms  in dataset.columns :\n",
    "        if dataset['total_bedrooms'].dtype == object:\n",
    "            dataset['total_bedrooms'] = dataset_le.fit_transform(dataset['total_bedrooms'])\n",
    "        else:\n",
    "            pass"
   ]
  },
  {
   "cell_type": "code",
   "execution_count": 0,
   "metadata": {
    "colab": {},
    "colab_type": "code",
    "id": "fkDhyFGoPtPN"
   },
   "outputs": [],
   "source": [
    "\n",
    "grid = sns.PairGrid(dataset[[ 'total_rooms',  'housing_median_age', 'total_bedrooms', 'population', 'median_income','median_house_value']])\n",
    "grid.map_diag(plt.hist)\n",
    "grid.map_offdiag(plt.scatter)"
   ]
  },
  {
   "cell_type": "code",
   "execution_count": 0,
   "metadata": {
    "colab": {},
    "colab_type": "code",
    "id": "DlqCkHhuPtPS"
   },
   "outputs": [],
   "source": [
    "dataset_dummies = pd.get_dummies(data=dataset,drop_first=True)"
   ]
  },
  {
   "cell_type": "code",
   "execution_count": 0,
   "metadata": {
    "colab": {},
    "colab_type": "code",
    "id": "4aht7FQJPtPV"
   },
   "outputs": [],
   "source": [
    "fig, (ax1, ax2, ax3,ax4,ax5) = plt.subplots(1,5,figsize=(15,20))\n",
    "\n",
    "fig.suptitle(\"Boxplot for Housing \", fontsize=35)\n",
    "sns.boxplot(x=\"ocean_proximity\", y=\"median_house_value\", data=dataset,ax=ax1)\n",
    "\n",
    "#sns.boxplot(x=\"median_income\", y=\"median_house_value\", data=dataset,ax=ax1)\n",
    "#sns.boxplot(x=\"housing_median_age\", y=\"median_house_value\", data=dataset,ax=ax2)\n",
    "\n",
    "# sns.boxplot(x=\"total_bedrooms_2.0\", y=\"median_house_value\", data=dataset,ax=ax3)\n",
    "# sns.boxplot(x=\"ocean_proximity_ISLAND\", y=\"median_house_value\", data=dataset,ax=ax3)\n",
    "# sns.boxplot(x=\"total_bedrooms_2.0\", y=\"median_house_value\", data=dataset,ax=ax3)\n",
    "# sns.boxplot(x=\"ocean_proximity_<1H OCEAN\", y=\"median_house_value\", data=dataset,ax=ax4)\n",
    "# sns.boxplot(x=\"total_bedrooms_2.0\", y=\"median_house_value\", data=dataset,ax=ax4)\n",
    "\n",
    "# sns.boxplot(x=\"ocean_proximity_<1H OCEAN\", y=\"median_house_value\", data=dataset,ax=ax4)\n",
    "# sns.boxplot(x=\"total_bedrooms_2.0\", y=\"median_house_value\", data=dataset,ax=ax4)\n",
    "# sns.boxplot(x=\"ocean_proximity_INLAND\", y=\"median_house_value\", data=dataset,ax=ax5)\n",
    "# sns.boxplot(x=\"total_bedrooms_2.0\", y=\"median_house_value\", data=dataset,ax=ax5)\n"
   ]
  },
  {
   "cell_type": "code",
   "execution_count": 0,
   "metadata": {
    "colab": {},
    "colab_type": "code",
    "id": "X2ePsZIWPtPa"
   },
   "outputs": [],
   "source": [
    "dataset.get_dtype_counts()\n",
    "dataset.columns"
   ]
  },
  {
   "cell_type": "code",
   "execution_count": 0,
   "metadata": {
    "colab": {},
    "colab_type": "code",
    "id": "lRUV800bPtPh"
   },
   "outputs": [],
   "source": [
    "dataset.columns\n",
    "iv=dataset[['longitude','latitude','housing_median_age','total_rooms','total_bedrooms','population','households','ocean_proximity','median_house_value']]\n",
    "dv=dataset[['median_income']]"
   ]
  },
  {
   "cell_type": "code",
   "execution_count": 0,
   "metadata": {
    "colab": {},
    "colab_type": "code",
    "id": "mWUg16ZqPtPj"
   },
   "outputs": [],
   "source": [
    "iv.iloc[:,7]"
   ]
  },
  {
   "cell_type": "code",
   "execution_count": 0,
   "metadata": {
    "colab": {},
    "colab_type": "code",
    "id": "jFaadKClPtPn"
   },
   "outputs": [],
   "source": [
    "# Encoding the Independent Variable\n",
    "from sklearn.preprocessing import LabelEncoder, OneHotEncoder\n",
    "labelencoder_iv = LabelEncoder()\n",
    "iv.iloc[:,8] = labelencoder_iv.fit_transform(iv.iloc[:,8])\n",
    "onehotencoder = OneHotEncoder(categorical_features=[0])\n",
    "iv.iloc[:1,8]"
   ]
  },
  {
   "cell_type": "code",
   "execution_count": 0,
   "metadata": {
    "colab": {},
    "colab_type": "code",
    "id": "5M-Tqp26PtPr"
   },
   "outputs": [],
   "source": [
    "# Encoding the Independent Variable OCEAN_PROXIMITY\n",
    "from sklearn.preprocessing import LabelEncoder, OneHotEncoder\n",
    "labelencoder_iv = LabelEncoder()\n",
    "iv.iloc[:,7] = labelencoder_iv.fit_transform(iv.iloc[:,7])\n",
    "onehotencoder = OneHotEncoder(categorical_features=[0])"
   ]
  },
  {
   "cell_type": "code",
   "execution_count": 0,
   "metadata": {
    "colab": {},
    "colab_type": "code",
    "id": "lv7GX6kjPtPv"
   },
   "outputs": [],
   "source": [
    "# Encoding the Independent Variable\n",
    "from sklearn.preprocessing import LabelEncoder, OneHotEncoder\n",
    "labelencoder_iv = LabelEncoder()\n",
    "iv.iloc[:,4] = labelencoder_iv.fit_transform(iv.iloc[:,4])\n",
    "onehotencoder = OneHotEncoder(categorical_features=[0])"
   ]
  },
  {
   "cell_type": "code",
   "execution_count": 0,
   "metadata": {
    "colab": {},
    "colab_type": "code",
    "id": "iy2N6KiLPtP0"
   },
   "outputs": [],
   "source": [
    "from sklearn.model_selection import train_test_split\n",
    "iv_train,iv_test,dv_train,dv_test = train_test_split(iv,dv,test_size =0.2,random_state =0)"
   ]
  },
  {
   "cell_type": "markdown",
   "metadata": {
    "colab_type": "text",
    "id": "nosWApuAPtP3"
   },
   "source": [
    "## Linear Regression Model\n",
    "from sklearn.linear_model import LinearRegression\n",
    "lin_regressor = LinearRegression()\n",
    "lin_regressor.fit(iv_train.reshape(-1,1 ),dv_train.reshape(-1,1))"
   ]
  },
  {
   "cell_type": "code",
   "execution_count": 0,
   "metadata": {
    "colab": {},
    "colab_type": "code",
    "id": "4BdvS0kvPtP4"
   },
   "outputs": [],
   "source": [
    "## Linear Regression Codes Start from Here \n",
    "from sklearn.linear_model import LinearRegression\n",
    "lin_regressor= LinearRegression()\n",
    "lin_regressor.fit(iv_train,dv_train)\n",
    "lin_regressor"
   ]
  },
  {
   "cell_type": "code",
   "execution_count": 0,
   "metadata": {
    "colab": {},
    "colab_type": "code",
    "id": "pzLxk9nMPtP8"
   },
   "outputs": [],
   "source": []
  },
  {
   "cell_type": "code",
   "execution_count": 0,
   "metadata": {
    "colab": {},
    "colab_type": "code",
    "id": "2KTYgJDQPtP-"
   },
   "outputs": [],
   "source": [
    "result_train = pd.DataFrame()\n",
    "result_train['actual_income'] = result_train.append(pd.DataFrame(dv_train['median_income']),ignore_index=True)\n",
    "result_train['Linear Predictions'] = lin_regressor.predict(iv_train)\n"
   ]
  },
  {
   "cell_type": "code",
   "execution_count": 0,
   "metadata": {
    "colab": {},
    "colab_type": "code",
    "id": "uqcyU_slPtQB"
   },
   "outputs": [],
   "source": []
  },
  {
   "cell_type": "code",
   "execution_count": 0,
   "metadata": {
    "colab": {},
    "colab_type": "code",
    "id": "xiZVRvr-PtQD"
   },
   "outputs": [],
   "source": []
  }
 ],
 "metadata": {
  "colab": {
   "name": "California_housingProject_Anil-Copy1.ipynb",
   "provenance": [],
   "version": "0.3.2"
  },
  "kernelspec": {
   "display_name": "Python 3",
   "language": "python",
   "name": "python3"
  },
  "language_info": {
   "codemirror_mode": {
    "name": "ipython",
    "version": 3
   },
   "file_extension": ".py",
   "mimetype": "text/x-python",
   "name": "python",
   "nbconvert_exporter": "python",
   "pygments_lexer": "ipython3",
   "version": "3.7.4"
  }
 },
 "nbformat": 4,
 "nbformat_minor": 1
}
